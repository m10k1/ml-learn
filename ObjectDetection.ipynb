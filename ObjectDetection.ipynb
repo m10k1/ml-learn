{
  "nbformat": 4,
  "nbformat_minor": 0,
  "metadata": {
    "colab": {
      "provenance": [],
      "authorship_tag": "ABX9TyNyShsMf2hObOQthsmHqWzu",
      "include_colab_link": true
    },
    "kernelspec": {
      "name": "python3",
      "display_name": "Python 3"
    },
    "language_info": {
      "name": "python"
    }
  },
  "cells": [
    {
      "cell_type": "markdown",
      "metadata": {
        "id": "view-in-github",
        "colab_type": "text"
      },
      "source": [
        "<a href=\"https://colab.research.google.com/github/m10k1/ml-learn/blob/main/ObjectDetection.ipynb\" target=\"_parent\"><img src=\"https://colab.research.google.com/assets/colab-badge.svg\" alt=\"Open In Colab\"/></a>"
      ]
    },
    {
      "cell_type": "code",
      "execution_count": 44,
      "metadata": {
        "id": "qLlfQk4nUEgl",
        "colab": {
          "base_uri": "https://localhost:8080/",
          "height": 35
        },
        "outputId": "69395939-5cbd-4a3d-e94f-90eb2a5076ba"
      },
      "outputs": [
        {
          "output_type": "stream",
          "name": "stdout",
          "text": [
            "2.5.1+cu121\n"
          ]
        }
      ],
      "source": [
        "from io import IncrementalNewlineDecoder\n",
        "\n",
        "import torch\n",
        "import torchvision\n",
        "import torchvision.transforms as transforms\n",
        "\n",
        "from torch.utils.data import DataLoader\n",
        "from torchvision.transforms.functional import resize\n",
        "\n",
        "import matplotlib.pyplot as plt\n",
        "\n",
        "%matplotlib inline\n",
        "# %matplotlib notebook\n",
        "\n",
        "\n",
        "# pytorch のバージョン確認\n",
        "print(torch.__version__)\n"
      ]
    },
    {
      "cell_type": "code",
      "source": [
        "\n",
        "transform = transforms.Compose([\n",
        "    transforms.ToTensor()\n",
        "])\n",
        "\n",
        "\n",
        "# データのダウンロード\n",
        "train_dataset = torchvision.datasets.CIFAR10(root='./data', train=True, download=True, transform=transform)\n",
        "test_dataset = torchvision.datasets.CIFAR10(root='./data', train=False, download=True, transform=transform)\n"
      ],
      "metadata": {
        "colab": {
          "base_uri": "https://localhost:8080/",
          "height": 53
        },
        "id": "mtYLNARTKvaP",
        "outputId": "0a460fca-699d-484f-b134-9dc09a57764b"
      },
      "execution_count": 45,
      "outputs": [
        {
          "output_type": "stream",
          "name": "stdout",
          "text": [
            "Files already downloaded and verified\n",
            "Files already downloaded and verified\n"
          ]
        }
      ]
    },
    {
      "cell_type": "code",
      "source": [
        "\n",
        "print(train_dataset.meta)\n",
        "print(train_dataset.data.shape)\n",
        "\n",
        "print(train_dataset.targets[:10])"
      ],
      "metadata": {
        "id": "Fcuq_BhIP-yG",
        "outputId": "faa026da-fa1d-4714-84b9-e3934cf8fbf4",
        "colab": {
          "base_uri": "https://localhost:8080/",
          "height": 71
        }
      },
      "execution_count": 46,
      "outputs": [
        {
          "output_type": "stream",
          "name": "stdout",
          "text": [
            "{'filename': 'batches.meta', 'key': 'label_names', 'md5': '5ff9c542aee3614f3951f8cda6e48888'}\n",
            "(50000, 32, 32, 3)\n",
            "[6, 9, 9, 4, 1, 1, 2, 7, 8, 3]\n"
          ]
        }
      ]
    },
    {
      "cell_type": "code",
      "source": [
        "# データローダーの作成\n",
        "\n",
        "train_loader = DataLoader(train_dataset, batch_size=64, shuffle=True)\n",
        "test_loader = DataLoader(test_dataset, batch_size=64, shuffle=False)\n",
        "\n",
        "classes = train_dataset.classes\n",
        "\n",
        "# 0番目のミニバッチの画像とラベルを取得\n",
        "images, labels = train_dataset[0]\n",
        "print(f\"image shape: {images.shape}\")\n",
        "print(f\"label: {classes[labels]}\")\n"
      ],
      "metadata": {
        "id": "KMn3FoyBL-Yv",
        "outputId": "491d7089-9932-4b4f-9e74-95c0753059cb",
        "colab": {
          "base_uri": "https://localhost:8080/",
          "height": 53
        }
      },
      "execution_count": 51,
      "outputs": [
        {
          "output_type": "stream",
          "name": "stdout",
          "text": [
            "image shape: torch.Size([3, 32, 32])\n",
            "label: frog\n"
          ]
        }
      ]
    },
    {
      "cell_type": "code",
      "source": [
        "\n",
        "# 画像の表示\n",
        "# permuteで c h, w ->　h, w, cの順にする\n",
        "idx = 0\n",
        "print(f\"Class name : {classes[train_dataset[idx][1]]}\")\n",
        "plt.imshow(train_dataset[idx][0].permute(1, 2, 0))\n"
      ],
      "metadata": {
        "id": "MZv-02dwRV6d",
        "outputId": "f3dc85be-4803-4e20-d912-92fae0620e1d",
        "colab": {
          "base_uri": "https://localhost:8080/",
          "height": 53
        }
      },
      "execution_count": 48,
      "outputs": [
        {
          "output_type": "stream",
          "name": "stdout",
          "text": [
            "Class name : frog\n"
          ]
        },
        {
          "output_type": "execute_result",
          "data": {
            "text/plain": [
              "<matplotlib.image.AxesImage at 0x7a5d3e693ee0>"
            ]
          },
          "metadata": {},
          "execution_count": 48
        }
      ]
    },
    {
      "cell_type": "code",
      "source": [
        "idx = 1\n",
        "print(f\"Class name : {classes[train_dataset[idx][1]]}\")\n",
        "plt.imshow(train_dataset[idx][0].permute(1, 2, 0))"
      ],
      "metadata": {
        "id": "_7C7CwadQb-J",
        "outputId": "60b7eecb-67e4-4f9d-fc81-6c274225888c",
        "colab": {
          "base_uri": "https://localhost:8080/",
          "height": 53
        }
      },
      "execution_count": 49,
      "outputs": [
        {
          "output_type": "stream",
          "name": "stdout",
          "text": [
            "Class name : truck\n"
          ]
        },
        {
          "output_type": "execute_result",
          "data": {
            "text/plain": [
              "<matplotlib.image.AxesImage at 0x7a5d3e693d30>"
            ]
          },
          "metadata": {},
          "execution_count": 49
        }
      ]
    },
    {
      "cell_type": "code",
      "source": [
        "## 低解像度の画像を作成する"
      ],
      "metadata": {
        "id": "IwPaI4fXGJGA"
      },
      "execution_count": 50,
      "outputs": []
    },
    {
      "cell_type": "code",
      "source": [],
      "metadata": {
        "id": "pAFjLllfGLvq"
      },
      "execution_count": 50,
      "outputs": []
    }
  ]
}