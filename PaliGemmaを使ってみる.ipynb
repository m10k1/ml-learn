{
  "nbformat": 4,
  "nbformat_minor": 0,
  "metadata": {
    "colab": {
      "provenance": [],
      "gpuType": "T4",
      "authorship_tag": "ABX9TyM0KiLfAqeWRxraFB8R4BPV",
      "include_colab_link": true
    },
    "kernelspec": {
      "name": "python3",
      "display_name": "Python 3"
    },
    "language_info": {
      "name": "python"
    },
    "accelerator": "GPU"
  },
  "cells": [
    {
      "cell_type": "markdown",
      "metadata": {
        "id": "view-in-github",
        "colab_type": "text"
      },
      "source": [
        "<a href=\"https://colab.research.google.com/github/m10k1/ml-learn/blob/main/PaliGemma%E3%82%92%E4%BD%BF%E3%81%A3%E3%81%A6%E3%81%BF%E3%82%8B.ipynb\" target=\"_parent\"><img src=\"https://colab.research.google.com/assets/colab-badge.svg\" alt=\"Open In Colab\"/></a>"
      ]
    },
    {
      "cell_type": "code",
      "execution_count": 2,
      "metadata": {
        "id": "UNCVCG1Y_VZd"
      },
      "outputs": [],
      "source": [
        "import os\n",
        "\n",
        "from google.colab import userdata\n",
        "\n",
        "os.environ[\"KAGGLE_USERNAME\"] = userdata.get(\"KAGGLE_USERNAME\")\n",
        "os.environ[\"KAGGLE_KEY\"] = userdata.get('KAGGLE_KEY')\n"
      ]
    },
    {
      "cell_type": "markdown",
      "source": [
        "必要なライブラリを読み込みます。\n",
        "* torch\n",
        "* immutabledict\n",
        "* sentencepiece\n",
        "\n"
      ],
      "metadata": {
        "id": "EOXbChidtuwB"
      }
    },
    {
      "cell_type": "code",
      "source": [
        "!pip install -q -U torch immutabledict sentencepiece"
      ],
      "metadata": {
        "id": "0zQycxO4thCl"
      },
      "execution_count": 3,
      "outputs": []
    },
    {
      "cell_type": "markdown",
      "source": [
        "パラメータをダウンロードします。"
      ],
      "metadata": {
        "id": "mnpJ2uD7uUEJ"
      }
    },
    {
      "cell_type": "code",
      "source": [
        "# variantとマシンタイプを選択\n",
        "VARIANT = '2b-it'\n",
        "MACHINE_TYPE = 'cuda'\n",
        "\n",
        "CONFIG = VARIANT[:2]\n",
        "if CONFIG == '2b':\n",
        "  CONFIG = '2b-v2'\n",
        "\n",
        "import os\n",
        "import kagglehub\n",
        "\n",
        "# パラメータの読み込み\n",
        "weights_dir = kagglehub.model_download(f'google/gemma-2/pyTorch/gemma-2-{VARIANT}')\n",
        "\n",
        "\n",
        "# tokenizerがあるか確認\n",
        "tokenizer_path = os.path.join(weights_dir, 'tokenizer.model')\n",
        "assert os.path.isfile(tokenizer_path), 'Tokenizer not found!'\n",
        "\n",
        "# checkpointが存在するか確認\n",
        "ckpt_path = os.path.join(weights_dir, f'model.ckpt')\n",
        "assert os.path.isfile(ckpt_path), 'PyTorch checkpoint not found!'\n"
      ],
      "metadata": {
        "id": "6M06BUeWuSEg"
      },
      "execution_count": 10,
      "outputs": []
    },
    {
      "cell_type": "markdown",
      "source": [],
      "metadata": {
        "id": "FF2LFnB4uTqV"
      }
    },
    {
      "cell_type": "markdown",
      "source": [
        "# モデルの実装をダウンロード"
      ],
      "metadata": {
        "id": "8HTJ4Csov7pb"
      }
    },
    {
      "cell_type": "code",
      "source": [
        "# NOTE: The \"installation\" is just cloning the repo.\n",
        "!git clone https://github.com/google/gemma_pytorch.git"
      ],
      "metadata": {
        "id": "n_dEEattv-S1",
        "outputId": "8735fdd0-f856-436c-ded3-201d810a1da2",
        "colab": {
          "base_uri": "https://localhost:8080/"
        }
      },
      "execution_count": 6,
      "outputs": [
        {
          "output_type": "stream",
          "name": "stdout",
          "text": [
            "Cloning into 'gemma_pytorch'...\n",
            "remote: Enumerating objects: 239, done.\u001b[K\n",
            "remote: Counting objects: 100% (118/118), done.\u001b[K\n",
            "remote: Compressing objects: 100% (65/65), done.\u001b[K\n",
            "remote: Total 239 (delta 86), reused 53 (delta 53), pack-reused 121 (from 2)\u001b[K\n",
            "Receiving objects: 100% (239/239), 2.18 MiB | 25.35 MiB/s, done.\n",
            "Resolving deltas: 100% (135/135), done.\n"
          ]
        }
      ]
    },
    {
      "cell_type": "markdown",
      "source": [],
      "metadata": {
        "id": "_sZ6KtsPwMJ4"
      }
    },
    {
      "cell_type": "code",
      "source": [
        "import sys\n",
        "\n",
        "sys.path.append('gemma_pytorch')"
      ],
      "metadata": {
        "id": "dtScEgYEwLgV"
      },
      "execution_count": 11,
      "outputs": []
    },
    {
      "cell_type": "code",
      "source": [
        "from gemma.config import GemmaConfig, get_model_config\n",
        "from gemma.model import GemmaForCausalLM\n",
        "from gemma.tokenizer import Tokenizer\n",
        "import contextlib\n",
        "import os\n",
        "import torch"
      ],
      "metadata": {
        "id": "oQjvPjN0wQAq"
      },
      "execution_count": 12,
      "outputs": []
    },
    {
      "cell_type": "markdown",
      "source": [
        "モデルをセットアップ"
      ],
      "metadata": {
        "id": "Y1hKLJ3SwUic"
      }
    },
    {
      "cell_type": "code",
      "source": [
        "# Set up model config.\n",
        "model_config = get_model_config(CONFIG)\n",
        "model_config.tokenizer = tokenizer_path\n",
        "model_config.quant = 'quant' in VARIANT\n",
        "\n",
        "# Instantiate the model and load the weights.\n",
        "torch.set_default_dtype(model_config.get_dtype())\n",
        "device = torch.device(MACHINE_TYPE)\n",
        "model = GemmaForCausalLM(model_config)\n",
        "model.load_weights(ckpt_path)\n",
        "model = model.to(device).eval()"
      ],
      "metadata": {
        "id": "xvtNGPRkwW2o"
      },
      "execution_count": 13,
      "outputs": []
    },
    {
      "cell_type": "markdown",
      "source": [
        "# 推論を実行する\n",
        "\n"
      ],
      "metadata": {
        "id": "jRFt05jkwuav"
      }
    },
    {
      "cell_type": "code",
      "source": [
        "# Generate with one request in chat mode\n",
        "\n",
        "# Chat templates\n",
        "USER_CHAT_TEMPLATE = \"<start_of_turn>user\\n{prompt}<end_of_turn><eos>\\n\"\n",
        "MODEL_CHAT_TEMPLATE = \"<start_of_turn>model\\n{prompt}<end_of_turn><eos>\\n\"\n",
        "\n",
        "# Sample formatted prompt\n",
        "prompt = (\n",
        "    USER_CHAT_TEMPLATE.format(\n",
        "        prompt='What is a good place for travel in the US?'\n",
        "    )\n",
        "    + MODEL_CHAT_TEMPLATE.format(prompt='California.')\n",
        "    + USER_CHAT_TEMPLATE.format(prompt='What can I do in California?')\n",
        "    + '<start_of_turn>model\\n'\n",
        ")\n",
        "print('Chat prompt:\\n', prompt)\n",
        "\n",
        "model.generate(\n",
        "    USER_CHAT_TEMPLATE.format(prompt=prompt),\n",
        "    device=device,\n",
        "    output_len=128,\n",
        ")"
      ],
      "metadata": {
        "id": "AIlvGrROwYlf",
        "outputId": "d1586c8e-6d87-4a44-ef8f-f54078dc36b9",
        "colab": {
          "base_uri": "https://localhost:8080/",
          "height": 286
        }
      },
      "execution_count": 14,
      "outputs": [
        {
          "output_type": "stream",
          "name": "stdout",
          "text": [
            "Chat prompt:\n",
            " <start_of_turn>user\n",
            "What is a good place for travel in the US?<end_of_turn><eos>\n",
            "<start_of_turn>model\n",
            "California.<end_of_turn><eos>\n",
            "<start_of_turn>user\n",
            "What can I do in California?<end_of_turn><eos>\n",
            "<start_of_turn>model\n",
            "\n"
          ]
        },
        {
          "output_type": "execute_result",
          "data": {
            "text/plain": [
              "\"California is a vast and diverse state with something for everyone!  To give you some great recommendations, tell me: \\n\\n* **What kind of activities do you enjoy?**  (e.g., hiking, beaches, history, art, nightlife, food)\\n* **What part of California are you interested in?** (e.g., the coast, the mountains, the cities, etc.)\\n* **What's your budget like?** (e.g., luxurious hotels, budget-friendly hostels, camping)\\n* **Who are you travelling with?** (e.g., solo, as a\""
            ],
            "application/vnd.google.colaboratory.intrinsic+json": {
              "type": "string"
            }
          },
          "metadata": {},
          "execution_count": 14
        }
      ]
    }
  ]
}