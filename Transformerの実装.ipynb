{
  "nbformat": 4,
  "nbformat_minor": 0,
  "metadata": {
    "colab": {
      "provenance": [],
      "authorship_tag": "ABX9TyPTue3060bqXdRnR0AJe5Ew",
      "include_colab_link": true
    },
    "kernelspec": {
      "name": "python3",
      "display_name": "Python 3"
    },
    "language_info": {
      "name": "python"
    }
  },
  "cells": [
    {
      "cell_type": "markdown",
      "metadata": {
        "id": "view-in-github",
        "colab_type": "text"
      },
      "source": [
        "<a href=\"https://colab.research.google.com/github/m10k1/ml-learn/blob/main/Transformer%E3%81%AE%E5%AE%9F%E8%A3%85.ipynb\" target=\"_parent\"><img src=\"https://colab.research.google.com/assets/colab-badge.svg\" alt=\"Open In Colab\"/></a>"
      ]
    },
    {
      "cell_type": "markdown",
      "source": [
        "# 自然言語処理による感情分析\n",
        "\n"
      ],
      "metadata": {
        "id": "AFd-C6VoogwS"
      }
    },
    {
      "cell_type": "markdown",
      "source": [
        "janomeを使った形態素解析"
      ],
      "metadata": {
        "id": "8dgTqanmUrHd"
      }
    },
    {
      "cell_type": "code",
      "source": [
        "!pip install janome\n"
      ],
      "metadata": {
        "colab": {
          "base_uri": "https://localhost:8080/"
        },
        "id": "DOITUCTAoyu-",
        "outputId": "017cbc45-4ac2-4a2d-8e74-d59efaf38b23"
      },
      "execution_count": 1,
      "outputs": [
        {
          "output_type": "stream",
          "name": "stdout",
          "text": [
            "Requirement already satisfied: janome in /usr/local/lib/python3.10/dist-packages (0.5.0)\n"
          ]
        }
      ]
    },
    {
      "cell_type": "code",
      "source": [
        "from janome.tokenizer import Tokenizer\n",
        "\n",
        "j_t = Tokenizer()\n",
        "\n",
        "text = 'なぜ日本人は英語がにがてなのか。'\n",
        "\n",
        "for token in j_t.tokenize(text):\n",
        "  print(token)"
      ],
      "metadata": {
        "colab": {
          "base_uri": "https://localhost:8080/"
        },
        "id": "r0SjWoE0ogD7",
        "outputId": "da07e9c4-878b-473a-a920-2085350c4a8c"
      },
      "execution_count": 2,
      "outputs": [
        {
          "output_type": "stream",
          "name": "stdout",
          "text": [
            "なぜ\t副詞,助詞類接続,*,*,*,*,なぜ,ナゼ,ナゼ\n",
            "日本人\t名詞,一般,*,*,*,*,日本人,ニッポンジン,ニッポンジン\n",
            "は\t助詞,係助詞,*,*,*,*,は,ハ,ワ\n",
            "英語\t名詞,一般,*,*,*,*,英語,エイゴ,エイゴ\n",
            "が\t助詞,格助詞,一般,*,*,*,が,ガ,ガ\n",
            "にが\t形容詞,自立,*,*,形容詞・アウオ段,ガル接続,にがい,ニガ,ニガ\n",
            "て\t動詞,非自立,*,*,一段,連用形,てる,テ,テ\n",
            "な\t助動詞,*,*,*,特殊・ダ,体言接続,だ,ナ,ナ\n",
            "の\t名詞,非自立,一般,*,*,*,の,ノ,ノ\n",
            "か\t助詞,副助詞／並立助詞／終助詞,*,*,*,*,か,カ,カ\n",
            "。\t記号,句点,*,*,*,*,。,。,。\n"
          ]
        }
      ]
    },
    {
      "cell_type": "markdown",
      "source": [
        "## Mecab + NEolodgによる単語分割\n",
        "\n",
        "MeCabと呼ばれる単語分割（形態素解析）のライブラリを使用する。\n",
        "\n",
        "MeCabは、新語辞書と呼ばれるNEolodgと組み合わせて使われることが多い"
      ],
      "metadata": {
        "id": "RxDMJp4lqxQV"
      }
    },
    {
      "cell_type": "code",
      "execution_count": 3,
      "metadata": {
        "colab": {
          "base_uri": "https://localhost:8080/"
        },
        "id": "aGZ62OQOn4FA",
        "outputId": "f9c7dd20-0cda-4932-a305-3abc6c657d56"
      },
      "outputs": [
        {
          "output_type": "stream",
          "name": "stdout",
          "text": [
            "Reading package lists...\n",
            "Building dependency tree...\n",
            "Reading state information...\n",
            "libmecab-dev is already the newest version (0.996-14build9).\n",
            "mecab-ipadic-utf8 is already the newest version (2.7.0-20070801+main-3).\n",
            "mecab is already the newest version (0.996-14build9).\n",
            "curl is already the newest version (7.81.0-1ubuntu1.19).\n",
            "0 upgraded, 0 newly installed, 0 to remove and 49 not upgraded.\n",
            "fatal: destination path 'mecab-ipadic-neologd' already exists and is not an empty directory.\n",
            "ln: failed to create symbolic link '/usr/local/etc/mecabrc': File exists\n"
          ]
        }
      ],
      "source": [
        "# 形態素分析ライブラリーMeCab と 辞書(mecab-ipadic-NEologd)のインストール\n",
        "!apt-get -q -y install mecab mecab-ipadic-utf8 libmecab-dev curl\n",
        "!git clone --depth 1 https://github.com/neologd/mecab-ipadic-neologd.git\n",
        "!cd mecab-ipadic-neologd && ./bin/install-mecab-ipadic-neologd -n -y\n",
        "!pip install mecab-python3\n",
        "\n",
        "# シンボリックリンクによるエラー回避\n",
        "!ln -s /etc/mecabrc /usr/local/etc/mecabrc"
      ]
    },
    {
      "cell_type": "markdown",
      "source": [
        "mecab-configが使えるか確認"
      ],
      "metadata": {
        "id": "JzEnFwqDclrv"
      }
    },
    {
      "cell_type": "code",
      "source": [
        "!mecab-config"
      ],
      "metadata": {
        "colab": {
          "base_uri": "https://localhost:8080/"
        },
        "id": "Uw4F89GpzqaA",
        "outputId": "ea8ecbf2-1452-471e-ffa0-b64b932a3c7f"
      },
      "execution_count": 4,
      "outputs": [
        {
          "output_type": "stream",
          "name": "stdout",
          "text": [
            "Usage: mecab-config [OPTIONS]\n",
            "\n",
            "Options:\n",
            "  [--cxx]\n",
            "  [--prefix[=DIR]]\n",
            "  [--exec-prefix[=DIR]]\n",
            "  [--libs]\n",
            "  [--cflags]\n",
            "  [--dicdir]\n",
            "  [--libexecdir]\n",
            "  [--sysconfdir]\n",
            "  [--libs-only-L]\n",
            "  [--libs-only-l]\n",
            "  [--inc-dir]\n",
            "  [--help]\n",
            "  [--version]\n"
          ]
        }
      ]
    },
    {
      "cell_type": "markdown",
      "source": [
        "辞書のパスの確認"
      ],
      "metadata": {
        "id": "vCLRzb2Vcve1"
      }
    },
    {
      "cell_type": "code",
      "source": [
        "!echo `mecab-config --dicdir`\"/mecab-ipadic-neologd\""
      ],
      "metadata": {
        "colab": {
          "base_uri": "https://localhost:8080/"
        },
        "id": "PBgnWoGZdT_v",
        "outputId": "0a8e9c1a-2289-467c-cfb8-be9ceb52d8f1"
      },
      "execution_count": 5,
      "outputs": [
        {
          "output_type": "stream",
          "name": "stdout",
          "text": [
            "/usr/lib/x86_64-linux-gnu/mecab/dic/mecab-ipadic-neologd\n"
          ]
        }
      ]
    },
    {
      "cell_type": "code",
      "source": [
        "import MeCab\n",
        "\n",
        "m_t = MeCab.Tagger(-Ochasen)\n",
        "text = \"日本人はなぜ英語が苦手なのか\"\n",
        "\n",
        "print(m_t.parse(text))"
      ],
      "metadata": {
        "colab": {
          "base_uri": "https://localhost:8080/",
          "height": 219
        },
        "id": "2_n7AQzTqSnJ",
        "outputId": "93968727-b30a-4945-9af0-9f16115380ab"
      },
      "execution_count": 12,
      "outputs": [
        {
          "output_type": "error",
          "ename": "NameError",
          "evalue": "name 'Ochasen' is not defined",
          "traceback": [
            "\u001b[0;31m---------------------------------------------------------------------------\u001b[0m",
            "\u001b[0;31mNameError\u001b[0m                                 Traceback (most recent call last)",
            "\u001b[0;32m<ipython-input-12-cbdd44405a46>\u001b[0m in \u001b[0;36m<cell line: 3>\u001b[0;34m()\u001b[0m\n\u001b[1;32m      1\u001b[0m \u001b[0;32mimport\u001b[0m \u001b[0mMeCab\u001b[0m\u001b[0;34m\u001b[0m\u001b[0;34m\u001b[0m\u001b[0m\n\u001b[1;32m      2\u001b[0m \u001b[0;34m\u001b[0m\u001b[0m\n\u001b[0;32m----> 3\u001b[0;31m \u001b[0mm_t\u001b[0m \u001b[0;34m=\u001b[0m \u001b[0mMeCab\u001b[0m\u001b[0;34m.\u001b[0m\u001b[0mTagger\u001b[0m\u001b[0;34m(\u001b[0m\u001b[0;34m-\u001b[0m\u001b[0mOchasen\u001b[0m\u001b[0;34m)\u001b[0m\u001b[0;34m\u001b[0m\u001b[0;34m\u001b[0m\u001b[0m\n\u001b[0m\u001b[1;32m      4\u001b[0m \u001b[0mtext\u001b[0m \u001b[0;34m=\u001b[0m \u001b[0;34m\"日本人はなぜ英語が苦手なのか\"\u001b[0m\u001b[0;34m\u001b[0m\u001b[0;34m\u001b[0m\u001b[0m\n\u001b[1;32m      5\u001b[0m \u001b[0;34m\u001b[0m\u001b[0m\n",
            "\u001b[0;31mNameError\u001b[0m: name 'Ochasen' is not defined"
          ]
        }
      ]
    },
    {
      "cell_type": "code",
      "source": [],
      "metadata": {
        "id": "PcoOjyhIqhO5"
      },
      "execution_count": null,
      "outputs": []
    }
  ]
}